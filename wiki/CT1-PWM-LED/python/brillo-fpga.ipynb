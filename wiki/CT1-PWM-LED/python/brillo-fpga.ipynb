{
 "cells": [
  {
   "cell_type": "markdown",
   "metadata": {},
   "source": [
    "# Control interactivo dela luminosidad de los LEDs"
   ]
  },
  {
   "cell_type": "markdown",
   "metadata": {},
   "source": [
    "Ejemplo de control de la luminosidad de los LEDs desde la interfaz del navegador  \n",
    "En la FPGA hay un circuito (servidor hardware) que recibe los niveles de brillo y actúa sobre los LEDs"
   ]
  },
  {
   "cell_type": "markdown",
   "metadata": {},
   "source": [
    "## Abrir el puerto serie"
   ]
  },
  {
   "cell_type": "code",
   "execution_count": 16,
   "metadata": {},
   "outputs": [
    {
     "name": "stdout",
     "output_type": "stream",
     "text": [
      "/dev/ttyUSB2\n"
     ]
    }
   ],
   "source": [
    "import serial\n",
    "\n",
    "SERIAL_PORT = \"/dev/ttyUSB2\"\n",
    "sp = serial.Serial(SERIAL_PORT, 115200)\n",
    "\n",
    "#-- Imprimir la información del puerto serie abierto\n",
    "print(sp.portstr)"
   ]
  },
  {
   "cell_type": "markdown",
   "metadata": {},
   "source": [
    "## Función de cambio del brillo en los LEDs\n",
    "\n",
    "Función para establecer un nuevo nivel de brillo"
   ]
  },
  {
   "cell_type": "code",
   "execution_count": 17,
   "metadata": {},
   "outputs": [],
   "source": [
    "\n",
    "def set_brillo(brillo):\n",
    "    \n",
    "    #-- Covertir a byte\n",
    "    b = bytes([brillo]);\n",
    "    \n",
    "    #-- enviar\n",
    "    sp.write(b)\n",
    "    \n",
    "    return"
   ]
  },
  {
   "cell_type": "markdown",
   "metadata": {},
   "source": [
    "## Control interactivo\n",
    "\n",
    "Barra deslizadora para modificar el brillo\n",
    "Cada vez que hay un cambio se invoca a la función set_brill()"
   ]
  },
  {
   "cell_type": "code",
   "execution_count": 18,
   "metadata": {
    "scrolled": true
   },
   "outputs": [
    {
     "data": {
      "application/vnd.jupyter.widget-view+json": {
       "model_id": "611a409f78e547ae8ae0e02308b863d9",
       "version_major": 2,
       "version_minor": 0
      },
      "text/plain": [
       "interactive(children=(IntSlider(value=127, description='brillo', max=255), Output()), _dom_classes=('widget-in…"
      ]
     },
     "metadata": {},
     "output_type": "display_data"
    }
   ],
   "source": [
    "from ipywidgets import interact\n",
    "\n",
    "interact(set_brillo,brillo=(0,255));"
   ]
  }
 ],
 "metadata": {
  "kernelspec": {
   "display_name": "Python 3",
   "language": "python",
   "name": "python3"
  },
  "language_info": {
   "codemirror_mode": {
    "name": "ipython",
    "version": 3
   },
   "file_extension": ".py",
   "mimetype": "text/x-python",
   "name": "python",
   "nbconvert_exporter": "python",
   "pygments_lexer": "ipython3",
   "version": "3.7.0"
  }
 },
 "nbformat": 4,
 "nbformat_minor": 2
}
